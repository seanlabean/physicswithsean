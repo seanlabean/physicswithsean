{
 "cells": [
  {
   "cell_type": "code",
   "execution_count": 2,
   "id": "c4fbfc28-33ff-4899-99fc-bcf42d203f1d",
   "metadata": {},
   "outputs": [],
   "source": [
    "from manim import *"
   ]
  },
  {
   "cell_type": "code",
   "execution_count": 3,
   "id": "0bb73452-c303-4adc-b96d-7b6c7b6fc928",
   "metadata": {},
   "outputs": [
    {
     "data": {
      "text/html": [
       "<pre style=\"white-space:pre;overflow-x:auto;line-height:normal;font-family:Menlo,'DejaVu Sans Mono',consolas,'Courier New',monospace\">Manim Community <span style=\"color: #008000; text-decoration-color: #008000\">v0.18.1</span>\n",
       "\n",
       "</pre>\n"
      ],
      "text/plain": [
       "Manim Community \u001b[32mv0.\u001b[0m\u001b[32m18.1\u001b[0m\n",
       "\n"
      ]
     },
     "metadata": {},
     "output_type": "display_data"
    },
    {
     "name": "stderr",
     "output_type": "stream",
     "text": [
      "                                                                                                                       \r"
     ]
    },
    {
     "data": {
      "text/html": [
       "<video src=\"media\\jupyter\\ProblemIntroduction@2024-08-23@15-12-30.mp4\" controls autoplay loop style=\"max-width: 60%;\"  >\n",
       "      Your browser does not support the <code>video</code> element.\n",
       "    </video>"
      ],
      "text/plain": [
       "<IPython.core.display.Video object>"
      ]
     },
     "metadata": {},
     "output_type": "display_data"
    }
   ],
   "source": [
    "%%manim -qm -v WARNING ProblemIntroduction\n",
    "\n",
    "# Simply inherit from VoiceoverScene instead of Scene to get all the\n",
    "# voiceover functionality.\n",
    "class ProblemIntroduction(Scene):\n",
    "    def construct(self):\n",
    "        text = MarkupText(f\"Find the tension in each chord if the weight of the suspended object is w.\")\n",
    "        self.play(Write(text))\n",
    "        text = MarkupText(f\"Find the <span fgcolor='{YELLOW}'>tension in each chord</span> if the weight of the suspended object is <span fgcolor='{RED}'>w</span>.\")\n",
    "        self.play(Write(text))"
   ]
  },
  {
   "cell_type": "code",
   "execution_count": null,
   "id": "bbbe35a6-d4ef-41f4-816a-5ad9ae4dd877",
   "metadata": {},
   "outputs": [],
   "source": []
  }
 ],
 "metadata": {
  "kernelspec": {
   "display_name": "Python 3 (ipykernel)",
   "language": "python",
   "name": "python3"
  },
  "language_info": {
   "codemirror_mode": {
    "name": "ipython",
    "version": 3
   },
   "file_extension": ".py",
   "mimetype": "text/x-python",
   "name": "python",
   "nbconvert_exporter": "python",
   "pygments_lexer": "ipython3",
   "version": "3.12.5"
  }
 },
 "nbformat": 4,
 "nbformat_minor": 5
}
