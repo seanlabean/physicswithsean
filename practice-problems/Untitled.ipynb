{
 "cells": [
  {
   "cell_type": "code",
   "execution_count": 2,
   "id": "c4fbfc28-33ff-4899-99fc-bcf42d203f1d",
   "metadata": {},
   "outputs": [],
   "source": [
    "from manim import *"
   ]
  },
  {
   "cell_type": "code",
   "execution_count": 206,
   "id": "0bb73452-c303-4adc-b96d-7b6c7b6fc928",
   "metadata": {},
   "outputs": [
    {
     "name": "stderr",
     "output_type": "stream",
     "text": [
      "<string>:80: SyntaxWarning: invalid escape sequence '\\c'\n"
     ]
    },
    {
     "data": {
      "text/html": [
       "<pre style=\"white-space:pre;overflow-x:auto;line-height:normal;font-family:Menlo,'DejaVu Sans Mono',consolas,'Courier New',monospace\">Manim Community <span style=\"color: #008000; text-decoration-color: #008000\">v0.18.1</span>\n",
       "\n",
       "</pre>\n"
      ],
      "text/plain": [
       "Manim Community \u001b[32mv0.\u001b[0m\u001b[32m18.1\u001b[0m\n",
       "\n"
      ]
     },
     "metadata": {},
     "output_type": "display_data"
    },
    {
     "name": "stderr",
     "output_type": "stream",
     "text": [
      "                                                                                                                       \r"
     ]
    },
    {
     "data": {
      "text/html": [
       "<video src=\"media\\jupyter\\ProblemExplanation@2024-08-27@14-59-12.mp4\" controls autoplay loop style=\"max-width: 60%;\"  >\n",
       "      Your browser does not support the <code>video</code> element.\n",
       "    </video>"
      ],
      "text/plain": [
       "<IPython.core.display.Video object>"
      ]
     },
     "metadata": {},
     "output_type": "display_data"
    }
   ],
   "source": [
    "%%manim -qm -v WARNING ProblemExplanation\n",
    "\n",
    "def persona(p1, p2):\n",
    "    head = Circle.from_three_points(p1, p2, UP * 2, color=RED)\n",
    "    return head\n",
    "\n",
    "class ProblemStatement(Scene):\n",
    "    def construct(self):\n",
    "        text = MarkupText(f\"Find the tension in each chord \\nif the weight of the suspended object is w.\")\n",
    "        self.add(text)\n",
    "        title = MarkupText(f\"Find the <span fgcolor='{YELLOW}'>tension in each chord</span> \\nif the weight of the suspended object is <span fgcolor='{RED}'>w</span>.\")\n",
    "        title.to_corner(UP + LEFT)\n",
    "        self.play(\n",
    "            Transform(text, title),\n",
    "        )\n",
    "        self.wait()\n",
    "\n",
    "class ProblemIntroduction(Scene):\n",
    "    def construct(self):\n",
    "        title = MarkupText(f\"Find the <span fgcolor='{YELLOW}'>tension in each chord</span> \\nif the weight of the suspended object is <span fgcolor='{RED}'>w</span>.\")\n",
    "        title.to_corner(UP + LEFT)\n",
    "        self.add(title)\n",
    "        xfbd = -6\n",
    "        yfbd = 1\n",
    "        ceiling = Line(start=(xfbd, yfbd, 0), end=(xfbd+4, yfbd, 0))\n",
    "\n",
    "        chord1 = Line(start=(xfbd+0.5, yfbd, 0), end=(xfbd+2, yfbd-2, 0))\n",
    "        chord2 = Line(start=(xfbd+3.5, yfbd, 0), end=(xfbd+2, yfbd-2, 0))\n",
    "        chord3 = Line(start=(xfbd+2, yfbd-2, 0), end=(xfbd+2, yfbd-3, 0))\n",
    "        weight = Polygon([xfbd+1.75, yfbd-3, 0], [xfbd+2.25, yfbd-3, 0], [xfbd+2.25, yfbd-3.5, 0], [xfbd+1.75, yfbd-3.5, 0]).set_color(RED)\n",
    "        a1 = Angle(chord1, ceiling, radius=0.5, other_angle=False)\n",
    "        a2 = Angle(chord2, ceiling, radius=0.5, other_angle=True, quadrant=(1,-1))\n",
    "        a1_text = MathTex(r\"30^\\circ\").scale(0.6).move_to(\n",
    "            Angle(\n",
    "                ceiling, chord1, radius=0.5 + 3 * SMALL_BUFF, other_angle=True\n",
    "            ).point_from_proportion(0.5)\n",
    "        )\n",
    "        a2_text = MathTex(r\"45^\\circ\").scale(0.6).move_to(\n",
    "            Angle(\n",
    "                ceiling, chord2, radius=0.5 + 3 * SMALL_BUFF, other_angle=True, quadrant=(1,-1)\n",
    "            ).point_from_proportion(0.5)\n",
    "        )\n",
    "        fbd = VGroup(ceiling, chord1, chord2, chord3, a1, a2, a1_text, a2_text, weight)\n",
    "        #self.add(ceiling, chord1, chord2, chord3, a1, a2, tetx)\n",
    "        self.add(fbd)\n",
    "        #self.play(Create(fbd, run_time=3))\n",
    "        #self.wait()\n",
    "\n",
    "class ProblemExplanation(Scene):\n",
    "    def construct(self):\n",
    "        xfbd = -6\n",
    "        yfbd = 2\n",
    "        fbd_origin = np.array((xfbd+2, yfbd-2, 0))\n",
    "        dot = Dot(fbd_origin)\n",
    "        arrow1 = Arrow(fbd_origin, (xfbd+0.5, yfbd, 0), buff=0)\n",
    "        arrow2 = Arrow(fbd_origin, (xfbd+3.5, yfbd, 0), buff=0)\n",
    "        arrow3 = Arrow(fbd_origin, (xfbd+2, yfbd-4, 0), buff=0)\n",
    "\n",
    "        a1_text = MathTex('T_{1}').next_to(arrow1.get_end(), RIGHT, buff=0.5)\n",
    "        a2_text = MathTex('T_{2}').next_to(arrow2.get_end(), RIGHT, buff=0.3)\n",
    "        a3_text = MathTex('w').next_to(arrow3.get_end(), RIGHT, buff=0.3)\n",
    "        self.add(dot, arrow1, arrow2, arrow3, a1_text, a2_text, a3_text)\n",
    "\n",
    "        eqn_text = MathTex(r\"\\Sigma F = \", \"ma\")\n",
    "        eqn_text2 = MathTex(r\"\\Sigma F = \", \"0\")\n",
    "        comp_text = MathTex(r\"\\Sigma F_{x} = 0\", r\",~ \\Sigma F_{y} = 0\")\n",
    "        self.add(eqn_text)\n",
    "        self.play(ReplacementTransform(eqn_text, eqn_text2))\n",
    "        self.wait(1)\n",
    "        self.play(ReplacementTransform(eqn_text2, comp_text))\n",
    "        self.wait(1)\n",
    "        comp_text.generate_target()\n",
    "        comp_text.target.to_corner(UP + RIGHT)\n",
    "        self.play(MoveToTarget(comp_text))\n",
    "        self.wait(1)\n",
    "        framebox1 = SurroundingRectangle(comp_text[0], buff = .1)\n",
    "        framebox2 = SurroundingRectangle(comp_text[1], buff = .1)\n",
    "        self.play(Create(framebox1))\n",
    "        self.wait(1)\n",
    "        # more text here to solve x components\n",
    "        xcomp_text = MathTex(r\"-T_{1}cos(30^\\circ)\", r\"+ T_{2}cos(45^\\circ)\", r\" = 0\").shift(RIGHT)\n",
    "        line_reference = Line().shift(fbd_origin).set_color(YELLOW)\n",
    "        ang1 = Angle(line_reference, arrow1, radius=0.5, other_angle=True, quadrant=(-1,1))\n",
    "        ang2 = Angle(line_reference, arrow2, radius=0.5, other_angle=False)\n",
    "        ang1_text = MathTex(r\"30^\\circ\").next_to(ang1.get_end(), LEFT, buff=0.5)\n",
    "        ang2_text = MathTex(r\"30^\\circ\").next_to(ang2.get_end(), LEFT, buff=0.5)\n",
    "        refs1 = VGroup(line_reference, ang1, ang1_text)\n",
    "        self.play(Create(refs1))\n",
    "        t1_xcomp = Arrow(fbd_origin, (xfbd+0.5, 0, 0), buff=0).set_color(PINK)\n",
    "        self.play(Create(t1_xcomp))\n",
    "        self.play(Write(xcomp_text[0]))\n",
    "        refs2 = VGroup(ang2, ang2_text)\n",
    "        self.remove(ang1, t1_xcomp)\n",
    "\n",
    "        self.wait(1)\n",
    "        self.play(Transform(framebox1, framebox2))\n",
    "        \n"
   ]
  },
  {
   "cell_type": "code",
   "execution_count": 197,
   "id": "bbbe35a6-d4ef-41f4-816a-5ad9ae4dd877",
   "metadata": {},
   "outputs": [
    {
     "data": {
      "text/plain": [
       "(1, 2, 3, 1, 0, 0)"
      ]
     },
     "execution_count": 197,
     "metadata": {},
     "output_type": "execute_result"
    }
   ],
   "source": [
    "(1,2,3) + (1,0,0)"
   ]
  },
  {
   "cell_type": "code",
   "execution_count": null,
   "id": "f80ecbde-84cd-4477-ae64-7839c06d0f80",
   "metadata": {},
   "outputs": [],
   "source": []
  }
 ],
 "metadata": {
  "kernelspec": {
   "display_name": "Python 3 (ipykernel)",
   "language": "python",
   "name": "python3"
  },
  "language_info": {
   "codemirror_mode": {
    "name": "ipython",
    "version": 3
   },
   "file_extension": ".py",
   "mimetype": "text/x-python",
   "name": "python",
   "nbconvert_exporter": "python",
   "pygments_lexer": "ipython3",
   "version": "3.12.5"
  }
 },
 "nbformat": 4,
 "nbformat_minor": 5
}
